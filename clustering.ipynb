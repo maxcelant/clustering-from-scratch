{
  "nbformat": 4,
  "nbformat_minor": 0,
  "metadata": {
    "colab": {
      "provenance": []
    },
    "kernelspec": {
      "name": "python3",
      "display_name": "Python 3"
    },
    "language_info": {
      "name": "python"
    }
  },
  "cells": [
    {
      "cell_type": "code",
      "execution_count": null,
      "metadata": {
        "id": "XYoF7Gp80v2G"
      },
      "outputs": [],
      "source": [
        "import numpy as np\n",
        "import matplotlib.pyplot as plt\n",
        "import math"
      ]
    },
    {
      "cell_type": "code",
      "source": [
        "weight = np.random.randint(180, 255, size=(100))\n",
        "height = np.random.randint(58, 80, size=(100))\n",
        "X = np.column_stack((weight, height))"
      ],
      "metadata": {
        "id": "FkfS5Wn81Byb"
      },
      "execution_count": null,
      "outputs": []
    },
    {
      "cell_type": "code",
      "source": [
        "# Create 4 centroids located at random locations in the plot\n",
        "centroid_f1 = np.random.randint(180, 255, size=(4))\n",
        "centroid_f2 = np.random.randint(58, 80, size=(4))\n",
        "centroids = np.column_stack((centroid_f1, centroid_f2))\n"
      ],
      "metadata": {
        "id": "AQzoS-GABMDb"
      },
      "execution_count": 176,
      "outputs": []
    },
    {
      "cell_type": "code",
      "source": [
        "# Show the random positions of the 4 centroids\n",
        "fig, ax = plt.subplots()\n",
        "ax.scatter(centroids[:,0], centroids[:,1], c='red')\n",
        "\n",
        "# Show random height and weight distribution\n",
        "ax.set_xlabel(\"weight\")\n",
        "ax.set_ylabel(\"height\")\n",
        "ax.scatter(X[:,0], X[:,1], c='blue')\n",
        "\n",
        "plt.show()"
      ],
      "metadata": {
        "colab": {
          "base_uri": "https://localhost:8080/",
          "height": 283
        },
        "id": "KCDKj4xeCXIo",
        "outputId": "48784be7-18bb-488f-b1f8-31f38de78e56"
      },
      "execution_count": 177,
      "outputs": [
        {
          "output_type": "display_data",
          "data": {
            "text/plain": [
              "<Figure size 432x288 with 1 Axes>"
            ],
            "image/png": "[encoded data removed]"
          },
          "metadata": {
            "needs_background": "light"
          }
        }
      ]
    },
    {
      "cell_type": "code",
      "source": [
        "def assign_points(X, centroids):\n",
        "  # Assign points to their closest centroid\n",
        "\n",
        "  m = len(X)\n",
        "  labels = np.zeros(m) # Denotes closest centroid\n",
        "\n",
        "  for i in range(m): # For every training example..\n",
        "    c_i = 0\n",
        "    min_distance = math.inf\n",
        "    for k in range(len(centroids)): # Compare it with every centroid \n",
        "      dist = abs(X[i] - centroids[k])**2\n",
        "      dist = np.sum(dist)\n",
        "      if dist < min_distance:\n",
        "        min_distance = dist # Update the min distance\n",
        "        c_i = k  # Update to make this centroid the closest to this example\n",
        "    labels[i] = c_i   # Assign this centroid to this example\n",
        "\n",
        "  return labels"
      ],
      "metadata": {
        "id": "1dtB1M4gCp81"
      },
      "execution_count": 179,
      "outputs": []
    },
    {
      "cell_type": "code",
      "source": [
        "# For all the points in a cluster, find their mean and move the centroid to that location\n",
        "def move_clusters(X, centroids, labels):\n",
        "  m, n = len(X), len(X[0])\n",
        "\n",
        "  for k in range(len(centroids)): # For each centroid\n",
        "    new_centroid_location = np.zeros(n)\n",
        "    sum = np.zeros(n)\n",
        "    count = 0\n",
        "    for i in range(m): # For each example\n",
        "      c_i = labels[i] # Centroid assigned to this example\n",
        "      if c_i == k: # If this example is grouped to this centroid\n",
        "        count += 1\n",
        "        for j in range(n): # For each feature in the example\n",
        "          sum[j] += X[i][j]\n",
        "    new_centroid_location = sum / count\n",
        "    centroids[k] = new_centroid_location\n",
        "  return centroids"
      ],
      "metadata": {
        "id": "JDCjuDa2IKcn"
      },
      "execution_count": null,
      "outputs": []
    },
    {
      "cell_type": "code",
      "source": [
        "def KMeans(X, centroids, epochs):\n",
        "  for i in range(epochs):\n",
        "    labels = assign_points(X, centroids)\n",
        "    centroids = move_clusters(X, centroids, labels)\n",
        "  return centroids, labels\n",
        "\n",
        "centroids, labels = KMeans(X, centroids, epochs=10)"
      ],
      "metadata": {
        "id": "y0HUC8S_Rdv3"
      },
      "execution_count": 180,
      "outputs": []
    },
    {
      "cell_type": "code",
      "source": [
        "# Show the clustering algorithm after n epochs\n",
        "fig, ax = plt.subplots()\n",
        "ax.scatter(X[:,0], X[:,1], c=labels)\n",
        "ax.scatter(centroids[:,0], centroids[:,1], c='red')\n",
        "plt.show()"
      ],
      "metadata": {
        "colab": {
          "base_uri": "https://localhost:8080/",
          "height": 269
        },
        "id": "9BFTVJtgRYEH",
        "outputId": "84003015-56de-4d3f-c5a9-36c0b7b8ccaf"
      },
      "execution_count": 181,
      "outputs": [
        {
          "output_type": "display_data",
          "data": {
            "text/plain": [
              "<Figure size 432x288 with 1 Axes>"
            ],
            "image/png": "[encoded data removed]"
          },
          "metadata": {
            "needs_background": "light"
          }
        }
      ]
    }
  ]
}
